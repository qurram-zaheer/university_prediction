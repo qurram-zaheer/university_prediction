{
 "metadata": {
  "language_info": {
   "codemirror_mode": {
    "name": "ipython",
    "version": 3
   },
   "file_extension": ".py",
   "mimetype": "text/x-python",
   "name": "python",
   "nbconvert_exporter": "python",
   "pygments_lexer": "ipython3",
   "version": "3.9.2"
  },
  "orig_nbformat": 2,
  "kernelspec": {
   "name": "python392jvsc74a57bd09e03d22255ec8d137eba285ab8ec967de6659f12e9cf778d67c1dcda3ae9ee2e",
   "display_name": "Python 3.9.2 64-bit"
  }
 },
 "nbformat": 4,
 "nbformat_minor": 2,
 "cells": [
  {
   "cell_type": "code",
   "execution_count": 1,
   "metadata": {},
   "outputs": [
    {
     "output_type": "stream",
     "name": "stdout",
     "text": [
      "Mozilla/5.0 (Windows NT 6.1; U; de; rv:1.9.1.6) Gecko/20091201 Firefox/3.5.6 Opera 11.01\nMozilla/5.0 (Windows NT 6.2) AppleWebKit/537.36 (KHTML, like Gecko) Chrome/28.0.1464.0 Safari/537.36\n*/*\n"
     ]
    }
   ],
   "source": [
    "from bs4 import BeautifulSoup\n",
    "from urllib.request import urlopen, Request\n",
    "from fake_useragent import UserAgent\n",
    "\n",
    "ua = UserAgent()\n",
    "print(ua.random)\n",
    "print(ua.random)\n",
    "\n",
    "from fake_headers import Headers\n",
    "\n",
    "headers = Headers(headers=True).generate()\n",
    "print(headers['Accept'])\n",
    "# url = \"https://yocket.in/applications-admits-rejects/305-university-of-texas-dallas/2?page=1\"\n",
    "# request = Request(url, None, headers)\n",
    "# page = urlopen(request)\n"
   ]
  },
  {
   "cell_type": "code",
   "execution_count": 7,
   "metadata": {},
   "outputs": [
    {
     "output_type": "error",
     "ename": "NameError",
     "evalue": "name 'page' is not defined",
     "traceback": [
      "\u001b[1;31m---------------------------------------------------------------------------\u001b[0m",
      "\u001b[1;31mNameError\u001b[0m                                 Traceback (most recent call last)",
      "\u001b[1;32m<ipython-input-7-94fec2226b63>\u001b[0m in \u001b[0;36m<module>\u001b[1;34m\u001b[0m\n\u001b[1;32m----> 1\u001b[1;33m \u001b[0mhtml\u001b[0m \u001b[1;33m=\u001b[0m \u001b[0mpage\u001b[0m\u001b[1;33m.\u001b[0m\u001b[0mread\u001b[0m\u001b[1;33m(\u001b[0m\u001b[1;33m)\u001b[0m\u001b[1;33m\u001b[0m\u001b[1;33m\u001b[0m\u001b[0m\n\u001b[0m\u001b[0;32m      2\u001b[0m \u001b[0msoup\u001b[0m \u001b[1;33m=\u001b[0m \u001b[0mBeautifulSoup\u001b[0m\u001b[1;33m(\u001b[0m\u001b[0mhtml\u001b[0m\u001b[1;33m,\u001b[0m \u001b[1;34m\"html.parser\"\u001b[0m\u001b[1;33m)\u001b[0m\u001b[1;33m\u001b[0m\u001b[1;33m\u001b[0m\u001b[0m\n",
      "\u001b[1;31mNameError\u001b[0m: name 'page' is not defined"
     ]
    }
   ],
   "source": []
  },
  {
   "cell_type": "code",
   "execution_count": 75,
   "metadata": {},
   "outputs": [],
   "source": [
    "panel_bod = soup.find_all(\"div\", class_=\"panel-body\")"
   ]
  },
  {
   "cell_type": "code",
   "execution_count": 78,
   "metadata": {},
   "outputs": [],
   "source": [
    "line = panel_bod[0].get_text().replace(\"\\n\",\"\")\n",
    "# term = line[0][0] + line[1]\n",
    "# status = line[2]\n",
    "# profile = line[3:]\n",
    "# try:\n",
    "#     gre = int(profile[0][3:])\n",
    "# except:\n",
    "#     gre = np.nan\n",
    "# if profile[1][0] == 'T':\n",
    "#     english = int(profile[1][5:]) + 1*1000\n",
    "# elif profile[1][0] == 'I':\n",
    "#     english = int(profile[1][5:]) + 2*1000\n",
    "# else:\n",
    "#     english = np.nan\n",
    "\n",
    "# try:\n",
    "#     gpa = float(profile[2][9:])\n",
    "# except:\n",
    "#     gpa = np.nan\n",
    "\n",
    "# try:\n",
    "#     workexp = int(profile[5][2])\n",
    "# except:\n",
    "#     workexp = np.nan"
   ]
  },
  {
   "cell_type": "code",
   "execution_count": 82,
   "metadata": {},
   "outputs": [
    {
     "output_type": "execute_result",
     "data": {
      "text/plain": [
       "'Fall 2021 Admit GRE309 TOEFL97 UNDERGRAD8.29 CGPA WORK EX2 months '"
      ]
     },
     "metadata": {},
     "execution_count": 82
    }
   ],
   "source": [
    "line[line.find(\"Computer Science\")+16:]"
   ]
  },
  {
   "cell_type": "code",
   "execution_count": 61,
   "metadata": {},
   "outputs": [
    {
     "output_type": "execute_result",
     "data": {
      "text/plain": [
       "['GRE309', 'TOEFL97', 'UNDERGRAD8.29', 'CGPA', 'WORK', 'EX2', 'months']"
      ]
     },
     "metadata": {},
     "execution_count": 61
    }
   ],
   "source": [
    "line.find()"
   ]
  },
  {
   "cell_type": "code",
   "execution_count": 3,
   "metadata": {},
   "outputs": [],
   "source": [
    "import time\n",
    "import random\n",
    "import numpy as np"
   ]
  },
  {
   "cell_type": "code",
   "execution_count": 9,
   "metadata": {},
   "outputs": [
    {
     "output_type": "stream",
     "name": "stdout",
     "text": [
      "\n+++++++++++++++++++++++++++\n 1\n200\n"
     ]
    }
   ],
   "source": [
    "utd = []\n",
    "i=1\n",
    "\n",
    "url = \"https://yocket.in/applications-admits-rejects/305-university-of-texas-dallas/2?page=1\"\n",
    "request = Request(url, None, Headers(headers=True).generate())\n",
    "page = urlopen(request)\n",
    "html = page.read()\n",
    "soup = BeautifulSoup(html, \"html.parser\")\n",
    "panel_bod = soup.find_all(\"div\", class_=\"panel-body\")\n",
    "print(\"\\n+++++++++++++++++++++++++++\\n\", i)\n",
    "i+=1\n",
    "print(page.getcode())\n",
    "if len(panel_bod) == 0:\n",
    "    print('dayum')\n",
    "for student_card in panel_bod:\n",
    "    raw_line = student_card.get_text()\n",
    "    line = raw_line.replace(\"\\n\",\"\")\n",
    "    line = line[line.find(\"Computer Science\") + 16:].split()\n",
    "    term = line[0][0] + line[1]\n",
    "    status = line[2]\n",
    "    profile = line[3:]\n",
    "    try:\n",
    "        gre = int(profile[0][3:])\n",
    "    except:\n",
    "        gre = np.nan\n",
    "    if profile[1][0] == 'T':\n",
    "        try:\n",
    "            english = float(profile[1][5:]) + 1*1000\n",
    "        except:\n",
    "            english = np.nan\n",
    "    elif profile[1][0] == 'I':\n",
    "        try:\n",
    "            english = float(profile[1][5:]) + 2*1000\n",
    "        except:\n",
    "            english=np.nan\n",
    "    else:\n",
    "        english = np.nan\n",
    "\n",
    "    try:\n",
    "        gpa = float(profile[2][9:])\n",
    "    except:\n",
    "        gpa = np.nan\n",
    "\n",
    "    try:\n",
    "        workexp = int(profile[5][2])\n",
    "    except:\n",
    "        workexp = np.nan\n",
    "    utd.append([term, status, gre, english, gpa, workexp])\n"
   ]
  },
  {
   "cell_type": "code",
   "execution_count": 17,
   "metadata": {},
   "outputs": [
    {
     "output_type": "execute_result",
     "data": {
      "text/plain": [
       "20"
      ]
     },
     "metadata": {},
     "execution_count": 17
    }
   ],
   "source": [
    "len(utd)"
   ]
  },
  {
   "cell_type": "code",
   "execution_count": 26,
   "metadata": {},
   "outputs": [
    {
     "output_type": "stream",
     "name": "stdout",
     "text": [
      "\n+++++++++++++++++++++++++++\n 15\n200\n"
     ]
    }
   ],
   "source": [
    "url = \"https://yocket.in/applications-admits-rejects/305-university-of-texas-dallas/2?page=1\"\n",
    "header = {'User-Agent':str(ua.chrome)}\n",
    "request = Request(url, None, {'User-Agent':str(ua.random)})\n",
    "page = urlopen(request)\n",
    "html = page.read()\n",
    "soup = BeautifulSoup(html, \"html.parser\")\n",
    "panel_bod = soup.find_all(\"div\", class_=\"panel-body\")\n",
    "print(\"\\n+++++++++++++++++++++++++++\\n\", i)\n",
    "i+=1\n",
    "print(page.getcode())\n",
    "if len(panel_bod) == 0:\n",
    "    print('dayum')\n",
    "for student_card in panel_bod:\n",
    "    raw_line = student_card.get_text()\n",
    "    line = raw_line.replace(\"\\n\",\"\")\n",
    "    line = line[line.find(\"Computer Science\") + 16:].split()\n",
    "    term = line[0][0] + line[1]\n",
    "    status = line[2]\n",
    "    profile = line[3:]\n",
    "    try:\n",
    "        gre = int(profile[0][3:])\n",
    "    except:\n",
    "        gre = np.nan\n",
    "    if profile[1][0] == 'T':\n",
    "        try:\n",
    "            english = float(profile[1][5:]) + 1*1000\n",
    "        except:\n",
    "            english = np.nan\n",
    "    elif profile[1][0] == 'I':\n",
    "        try:\n",
    "            english = float(profile[1][5:]) + 2*1000\n",
    "        except:\n",
    "            english=np.nan\n",
    "    else:\n",
    "        english = np.nan\n",
    "\n",
    "    try:\n",
    "        gpa = float(profile[2][9:])\n",
    "    except:\n",
    "        gpa = np.nan\n",
    "\n",
    "    try:\n",
    "        workexp = int(profile[5][2])\n",
    "    except:\n",
    "        workexp = np.nan\n",
    "    utd.append([term, status, gre, english, gpa, workexp])\n"
   ]
  },
  {
   "cell_type": "code",
   "execution_count": 37,
   "metadata": {},
   "outputs": [],
   "source": [
    "url = \"https://yocket.in/applications-admits-rejects/305-university-of-texas-dallas/2?page=2\"\n",
    "header = {'User-Agent':str(ua.chrome)}\n",
    "request = Request(url, None, Headers(headers=True).generate())\n",
    "cookies = {\"csrfToken\": \"8f168bcdcf8604996f390ed60910dc247202713efa7ead2275d580610769b5eddd50b908e89777099158f6222950a4c811060fa8b57f178e8c514b8663f52ee3\",}\n",
    "page = urlopen(request)\n",
    "html = page.read()\n",
    "soup = BeautifulSoup(html, \"html.parser\")"
   ]
  },
  {
   "cell_type": "code",
   "execution_count": 38,
   "metadata": {},
   "outputs": [
    {
     "output_type": "execute_result",
     "data": {
      "text/plain": [
       "'\\n\\n\\n\\n\\n\\n\\n\\n\\n\\n\\n\\n\\n\\n\\n\\n\\n\\n\\n\\n\\n\\n\\n\\n\\n\\n\\n\\n\\n\\n\\n\\n\\n\\n\\n\\n\\n\\n\\n\\n\\n\\n\\n\\n\\n\\n\\n\\n\\n\\n\\nLogin or create an account\\n\\n\\n\\n\\n\\n\\n\\n\\n\\nYocket\\n\\n\\n\\n\\n\\n \\n\\nUNIVERSITIES\\n\\n\\n\\nBy Country\\n\\n\\nTop Universities in USA \\n\\nTop Universities in Canada \\n\\nTop Universities in Canada \\n\\nTop Universities in UK  \\n\\nTop Universities in Germany  \\n\\n\\nVIEW ALL UNIVERSITIES \\n\\n\\n\\nBy Popular Courses\\nComputer Science Data Science Business Analytics Mechanical Engineering \\n\\nBy Profile\\n Grad School Finder\\n Undergrad College Finder\\nUniversity Predictor\\n Compare Universities\\n University Deadlines \\n\\n\\n\\n\\nGUIDES\\n\\n\\n\\nCountry Guides\\n\\n\\n\\nStudy in USA \\n\\n\\nStudy in Canada \\n\\n\\nStudy in Australia \\n\\n\\nStudy in United Kingdom \\n\\n\\nStudy in Germany \\n\\n\\nStudy in France \\n\\n\\nStudy in Ireland \\n\\n\\nStudy in New Zealand \\n\\n\\nStudy in Netherlands \\n\\n\\nStudy in Sweden \\n\\n\\nStudy in Singapore \\n\\n\\nStudy in Switzerland \\n\\n\\n\\nCourse Guides\\nComputer Science (Bachelors)\\nComputer Engineering (Bachelors)\\nMBA \\nComputer Science (Masters)\\nData Science (Masters)\\nBusiness Analytics (Masters)\\nMechanical Engineering (Masters)\\nCyber Security (Masters)\\nSEE ALL\\n\\n\\nExam Guides\\nWhat is GRE? \\nWhat is TOEFL? \\nWhat is IELTS? \\nWhat is GMAT? \\nWhat is PTE? \\nWhat is SAT? \\nWhat is ACT? \\n\\n\\n\\n\\n\\nDISCUSSIONS \\n\\nSERVICES\\n\\n\\n\\nTOP SERVICES\\n Yocket Premium\\n University Applications\\n Send transcripts\\nEducation Loans\\n Similar Profiles\\n Admits & Rejects\\n\\n\\nMobile Exclusives \\n  GRE Preparation \\n  GRE Flashcards \\n Roommate Finder\\n Find Profiles\\n  Group Chats \\n\\n\\n\\n\\n\\nEVENTS \\n\\nBLOG\\n\\n\\n\\nBY CATEGORIES\\nGRE Preparation Guide\\nToefl IELTS Preparation\\nGMAT Preparation\\nUniversity Application Process\\nI-20 and Visa\\nStudy Abroad Financing\\nStudy Abroad Tips And Information\\nSat Preparation\\nJob Opportunities\\n\\n\\nBy Hashtags\\n#GREPrep\\n#Shortlisting\\n#MBA\\n#Undergrad\\n#USA\\n#Scholarship\\n#assistantship\\n#EduLoan\\n#Admission\\n#Admits \\nVIEW ALL BLOGS\\n\\n\\n\\n\\n\\n\\n\\nGet started\\n\\n\\n\\n\\n\\n\\n\\n\\n\\n\\n\\n\\n\\n\\n\\n\\n\\n\\n\\n\\n\\n\\n\\n\\n\\n\\n\\n\\n\\n\\n\\n\\nSTUDY ABROAD UNIVERSITIES\\n\\nTop 100 Universities in USA\\nStudy in Australia\\nStudy in UK\\nUniversities in Canada\\nStudy in Singapore\\nCompare Universities\\nUniversity Reviews\\nApplication Deadlines\\n\\n\\n\\nAPPLICATION PROCESS\\n\\n\\nHow to prepare for GRE \\n\\nGRE Exam |\\nIELTS vs TOEFL \\n\\nHow to prepare for GMAT \\n\\nLOR\\n| SOP | Visa Documents \\nCost for MS in US\\nMore Articles\\nCourse Descriptions\\nAdmits & rejects\\n\\n\\n\\n\\n\\n\\nEXPLORE SERVICES\\n\\nPremium Counselling\\nProfile evaluator\\nSimilar profiles\\nRoommate finder\\nDiscussions\\nSend transcripts\\nEducation Loans | Forex Card\\nUniversity fee payment\\n University Directory\\n\\n\\n\\nMORE\\n\\nContact us \\n Work with us\\nAbout Us\\nCampus Ambassador\\n\\n\\n\\n\\n\\n\\n\\n\\nCopyright © 2021 \\n\\n Terms\\nPrivacy\\n\\n\\n\\n\\n\\n    \\n\\n'"
      ]
     },
     "metadata": {},
     "execution_count": 38
    }
   ],
   "source": [
    "soup.get_text()"
   ]
  },
  {
   "cell_type": "code",
   "execution_count": null,
   "metadata": {},
   "outputs": [],
   "source": []
  }
 ]
}